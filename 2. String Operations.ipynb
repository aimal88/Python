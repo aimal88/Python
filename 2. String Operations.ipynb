{
 "cells": [
  {
   "cell_type": "markdown",
   "metadata": {},
   "source": [
    "# **2. String Operations**"
   ]
  },
  {
   "cell_type": "markdown",
   "metadata": {},
   "source": [
    "**Example 1: Basic String Creation**"
   ]
  },
  {
   "cell_type": "code",
   "execution_count": null,
   "metadata": {},
   "outputs": [],
   "source": [
    "# Creating a string representing a geographic location\n",
    "location_name = \"Islamabad\"\n",
    "print(location_name)\n",
    "# Output: Islamabad"
   ]
  },
  {
   "cell_type": "markdown",
   "metadata": {},
   "source": [
    "**Example 2: Concatenation**\n",
    "\n",
    "You can join strings using the + operator."
   ]
  },
  {
   "cell_type": "code",
   "execution_count": null,
   "metadata": {},
   "outputs": [],
   "source": [
    "# Concatenating strings to form a full location name\n",
    "location_name_full = location_name + \", Pakistan\"\n",
    "print(location_name_full)\n",
    "# Output: Islamabad, Pakistan"
   ]
  },
  {
   "cell_type": "markdown",
   "metadata": {},
   "source": [
    "**Example 3: Repetition**\n",
    "\n",
    "Repeat strings using the * operator."
   ]
  },
  {
   "cell_type": "code",
   "execution_count": null,
   "metadata": {},
   "outputs": [],
   "source": [
    "# Creating a visual separator\n",
    "separator = \"=\" * 15\n",
    "print(separator)\n",
    "# Output: ==============="
   ]
  },
  {
   "cell_type": "markdown",
   "metadata": {},
   "source": [
    "# **2.1 String Methods**"
   ]
  },
  {
   "cell_type": "markdown",
   "metadata": {},
   "source": [
    "**Method 1: lower() and upper()** \n",
    "\n",
    "Convert strings to lowercase or uppercase, useful for standardizing data."
   ]
  },
  {
   "cell_type": "code",
   "execution_count": null,
   "metadata": {},
   "outputs": [],
   "source": [
    "# Standardizing location names\n",
    "location = \"Islamabad\"\n",
    "print(location.lower())  # Output: islamabad\n",
    "print(location.upper())  # Output: ISLAMABAD"
   ]
  },
  {
   "cell_type": "markdown",
   "metadata": {},
   "source": [
    "**Method 2: strip()**\n",
    "\n",
    "Remove leading and trailing whitespace."
   ]
  },
  {
   "cell_type": "code",
   "execution_count": null,
   "metadata": {},
   "outputs": [],
   "source": [
    "# Cleaning up user input\n",
    "raw_input = \"   Islamabad   \"\n",
    "cleaned_input = raw_input.strip()\n",
    "print(cleaned_input)\n",
    "# Output: Islamabad"
   ]
  },
  {
   "cell_type": "markdown",
   "metadata": {},
   "source": [
    "**Method 3: replace()**\n",
    "\n",
    "Replace parts of a string."
   ]
  },
  {
   "cell_type": "code",
   "execution_count": null,
   "metadata": {},
   "outputs": [],
   "source": [
    "# Replacing abbreviations in coordinates\n",
    "coordinate = \"Lat:33.6844, Long:73.0479\"\n",
    "cleaned_coordinate = coordinate.replace(\"Lat:\", \"Latitude: \").replace(\"Long:\", \"Longitude: \")\n",
    "print(cleaned_coordinate)\n",
    "# Output: Latitude: 33.6844, Longitude: 73.0479"
   ]
  },
  {
   "cell_type": "markdown",
   "metadata": {},
   "source": [
    "**Method 4: split()**\n",
    "\n",
    "Split strings into parts based on a delimiter."
   ]
  },
  {
   "cell_type": "code",
   "execution_count": null,
   "metadata": {},
   "outputs": [],
   "source": [
    "# Extracting latitude and longitude\n",
    "coordinate = \"33.6844,73.0479\"\n",
    "lat, lon = coordinate.split(\",\")\n",
    "print(f\"Latitude: {lat}, Longitude: {lon}\")\n",
    "# Output: Latitude: 33.6844, Longitude: 73.0479"
   ]
  },
  {
   "cell_type": "markdown",
   "metadata": {},
   "source": [
    "# **2.2 String Formatting**"
   ]
  },
  {
   "cell_type": "markdown",
   "metadata": {},
   "source": [
    "**Example 1: Using format()**"
   ]
  },
  {
   "cell_type": "code",
   "execution_count": null,
   "metadata": {},
   "outputs": [],
   "source": [
    "# Inserting dynamic data into a string\n",
    "city = \"Islamabad\"\n",
    "population = 1200000\n",
    "info = \"The city of {} has a population of {}.\".format(city, population)\n",
    "print(info)\n",
    "# Output: The city of Islamabad has a population of 1200000."
   ]
  },
  {
   "cell_type": "markdown",
   "metadata": {},
   "source": [
    "**Example 2: Using f-strings**"
   ]
  },
  {
   "cell_type": "code",
   "execution_count": null,
   "metadata": {},
   "outputs": [],
   "source": [
    "# More readable way to format strings\n",
    "info = f\"The city of {city} has a population of {population}.\"\n",
    "print(info)\n",
    "# Output: The city of Islamabad has a population of 1200000."
   ]
  },
  {
   "cell_type": "markdown",
   "metadata": {},
   "source": [
    "# **2.3 Parsing and Extracting Data**"
   ]
  },
  {
   "cell_type": "markdown",
   "metadata": {},
   "source": [
    "**Example 1: Extracting Coordinates**"
   ]
  },
  {
   "cell_type": "code",
   "execution_count": null,
   "metadata": {},
   "outputs": [],
   "source": [
    "# Parsing a string containing coordinates\n",
    "coordinate_str = \"Coordinates: Latitude 33.6844, Longitude 73.0479\"\n",
    "lat_start = coordinate_str.find(\"33\")\n",
    "lon_start = coordinate_str.find(\"73\")\n",
    "latitude = coordinate_str[lat_start:lat_start+7]\n",
    "longitude = coordinate_str[lon_start:lon_start+7]\n",
    "print(f\"Extracted Latitude: {latitude}, Longitude: {longitude}\")\n",
    "# Output: Extracted Latitude: 33.6844, Longitude: 73.0479"
   ]
  },
  {
   "cell_type": "markdown",
   "metadata": {},
   "source": [
    "**Example 2: Extracting Place Names from a Sentence**"
   ]
  },
  {
   "cell_type": "code",
   "execution_count": null,
   "metadata": {},
   "outputs": [],
   "source": [
    "# Extracting place name using split and indexing\n",
    "sentence = \"The capital city of Pakistan is Islamabad.\"\n",
    "place_name = sentence.split(\"is\")[-1].strip(\".\")\n",
    "print(f\"Place Name: {place_name}\")\n",
    "# Output: Place Name: Islamabad"
   ]
  },
  {
   "cell_type": "markdown",
   "metadata": {},
   "source": [
    "# **2.4 Practical GIS Use Case**"
   ]
  },
  {
   "cell_type": "markdown",
   "metadata": {},
   "source": [
    "Using strings to generate a file name for saving geographic data."
   ]
  },
  {
   "cell_type": "code",
   "execution_count": null,
   "metadata": {},
   "outputs": [],
   "source": [
    "# Creating a file name based on location and file type\n",
    "location = \"Islamabad\"\n",
    "file_type = \"shapefile\"\n",
    "file_name = f\"{location}_{file_type}.shp\"\n",
    "print(\"Generated File Name:\", file_name)\n",
    "# Output: Generated File Name: Islamabad_shapefile.shp"
   ]
  }
 ],
 "metadata": {
  "kernelspec": {
   "display_name": "geo",
   "language": "python",
   "name": "python3"
  },
  "language_info": {
   "codemirror_mode": {
    "name": "ipython",
    "version": 3
   },
   "file_extension": ".py",
   "mimetype": "text/x-python",
   "name": "python",
   "nbconvert_exporter": "python",
   "pygments_lexer": "ipython3",
   "version": "3.12.3"
  }
 },
 "nbformat": 4,
 "nbformat_minor": 2
}
