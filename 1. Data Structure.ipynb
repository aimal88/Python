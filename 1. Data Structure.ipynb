{
 "cells": [
  {
   "cell_type": "markdown",
   "metadata": {},
   "source": [
    "**Data Structure**"
   ]
  },
  {
   "cell_type": "markdown",
   "metadata": {},
   "source": [
    "**1.1 Tuples**\n",
    "Tuples are immutable sequences, meaning their elements cannot be changed after creation. In GIS, tuples can be used to represent geographic coordinates. Below is an example using the coordinates of Islamabad, Pakistan:"
   ]
  },
  {
   "cell_type": "code",
   "execution_count": 5,
   "metadata": {},
   "outputs": [
    {
     "name": "stdout",
     "output_type": "stream",
     "text": [
      "Latitude: 33.6844, Longitude: 73.0479\n"
     ]
    }
   ],
   "source": [
    "location_islamabad = (33.6844, 73.0479)\n",
    "\n",
    "# Accessing elements\n",
    "latitude = location_islamabad[0]\n",
    "longitude = location_islamabad[1]\n",
    "\n",
    "print(f\"Latitude: {latitude}, Longitude: {longitude}\")  \n",
    "# Output: Latitude: 33.6844, Longitude: 73.0479"
   ]
  },
  {
   "cell_type": "markdown",
   "metadata": {},
   "source": [
    "**1.2 Lists**\n",
    "Lists are ordered, mutable sequences, meaning you can change, add, or remove elements after the list has been created. They are versatile and can store multiple types of data, making them useful for geospatial tasks like representing paths or boundaries.\n",
    "\n",
    "**Explanation**\n",
    "1. Adding Points: append() is used to add a new point to the path.\n",
    "2. Removing Points: Use pop() to remove the last element or any element by its index"
   ]
  },
  {
   "cell_type": "code",
   "execution_count": 6,
   "metadata": {},
   "outputs": [
    {
     "name": "stdout",
     "output_type": "stream",
     "text": [
      "Updated path: [(33.6844, 73.0479), (33.6938, 73.0652), (33.738, 73.0848), (33.746, 73.1351)]\n",
      "Sub-path: [(33.6844, 73.0479), (33.6938, 73.0652)]\n",
      "Modified path: [(33.6844, 73.0479), (33.7, 73.08), (33.738, 73.0848), (33.746, 73.1351)]\n",
      "Path after removing last point: [(33.6844, 73.0479), (33.7, 73.08), (33.738, 73.0848)]\n"
     ]
    }
   ],
   "source": [
    "# List of tuples representing a path in Islamabad (latitude, longitude)\n",
    "path = [\n",
    "    (33.6844, 73.0479),  # Point 1: Islamabad\n",
    "    (33.6938, 73.0652),  # Point 2: Daman-e-Koh\n",
    "    (33.7380, 73.0848),  # Point 3: Rawal Lake\n",
    "]\n",
    "\n",
    "# Adding a new point to the path\n",
    "path.append((33.7460, 73.1351))  # Point 4: Shakarparian\n",
    "print(\"Updated path:\", path)\n",
    "# Output: Updated path: [(33.6844, 73.0479), (33.6938, 73.0652), (33.7380, 73.0848), (33.7460, 73.1351)]\n",
    "\n",
    "# Slicing the list to get the first two points\n",
    "sub_path = path[:2]  # Extracting the first two points\n",
    "print(\"Sub-path:\", sub_path)\n",
    "# Output: Sub-path: [(33.6844, 73.0479), (33.6938, 73.0652)]\n",
    "\n",
    "# Modifying the second point\n",
    "path[1] = (33.7000, 73.0800)  # Updated coordinates for Daman-e-Koh\n",
    "print(\"Modified path:\", path)\n",
    "# Output: Modified path: [(33.6844, 73.0479), (33.7000, 73.0800), (33.7380, 73.0848), (33.7460, 73.1351)]\n",
    "\n",
    "# Removing the last point\n",
    "path.pop()\n",
    "print(\"Path after removing last point:\", path)\n",
    "# Output: Path after removing last point: [(33.6844, 73.0479), (33.7000, 73.0800), (33.7380, 73.0848)]"
   ]
  },
  {
   "cell_type": "markdown",
   "metadata": {},
   "source": [
    "**1.3 Sets**\n",
    "Sets are unordered collections of unique elements. They are particularly useful in GIS for managing datasets where duplicates need to be eliminated, such as unique geographic regions or survey locations.\n",
    "\n",
    "**Explanation**\n",
    "1. Removing Duplicates: Converting a list to a set automatically removes duplicate elements.\n",
    "2. Adding Elements: Use add() to include new regions in the set.\n",
    "3. update(): Adds multiple elements (from a list, tuple, or another set) to the set.\n",
    "4. No Duplicates Allowed: Attempting to add an existing region doesn’t change the set.\n",
    "5. Removing Elements: Use remove() to delete specific items from the set."
   ]
  },
  {
   "cell_type": "code",
   "execution_count": 7,
   "metadata": {},
   "outputs": [
    {
     "name": "stdout",
     "output_type": "stream",
     "text": [
      "Unique regions: {'Islamabad', 'Khyber Pakhtunkhwa', 'Punjab'}\n",
      "Updated regions: {'Sindh', 'Islamabad', 'Khyber Pakhtunkhwa', 'Punjab'}\n",
      "Regions after attempting to add duplicate: {'Sindh', 'Islamabad', 'Khyber Pakhtunkhwa', 'Punjab'}\n",
      "Regions after removal: {'Islamabad', 'Khyber Pakhtunkhwa', 'Punjab'}\n"
     ]
    }
   ],
   "source": [
    "# List of regions visited during a survey in Pakistan\n",
    "regions = [\"Islamabad\", \"Punjab\", \"Khyber Pakhtunkhwa\", \"Islamabad\"]  # Includes a duplicate\n",
    "regions = set(regions)  # Convert the list to a set to eliminate duplicates\n",
    "print(\"Unique regions:\", regions)\n",
    "# Output: Unique regions: {'Khyber Pakhtunkhwa', 'Punjab', 'Islamabad'}\n",
    "\n",
    "# Adding a new region to the set\n",
    "regions.add(\"Sindh\")\n",
    "print(\"Updated regions:\", regions)\n",
    "# Output: Updated regions: {'Khyber Pakhtunkhwa', 'Punjab', 'Islamabad', 'Sindh'}\n",
    "\n",
    "# Attempting to add a duplicate region\n",
    "regions.add(\"Islamabad\")\n",
    "print(\"Regions after attempting to add duplicate:\", regions)\n",
    "# Output: Regions after attempting to add duplicate: {'Khyber Pakhtunkhwa', 'Punjab', 'Islamabad', 'Sindh'}\n",
    "\n",
    "# Removing a region\n",
    "regions.remove(\"Sindh\")\n",
    "print(\"Regions after removal:\", regions)\n",
    "# Output: Regions after removal: {'Khyber Pakhtunkhwa', 'Punjab', 'Islamabad'}"
   ]
  },
  {
   "cell_type": "markdown",
   "metadata": {},
   "source": [
    "**1.4 Dictionaries**\n",
    "Dictionaries are collections of key-value pairs, where each key is unique. They are especially useful in GIS for storing attributes of geographic features, such as cities, regions, or landmarks.\n",
    "**Explanation**\n",
    "1. Accessing Values: Retrieve specific data using the key name (e.g., \"name\").\n",
    "2. Adding Data: Use assignment to add a new key-value pair.\n",
    "3. Updating Data: Reassign a value to an existing key.\n",
    "4. Deleting Data: Use del to remove a key-value pair."
   ]
  },
  {
   "cell_type": "code",
   "execution_count": null,
   "metadata": {},
   "outputs": [],
   "source": [
    "# Dictionary storing attributes of Islamabad\n",
    "city_attributes = {\n",
    "    \"name\": \"Islamabad\",\n",
    "    \"population\": 1200000,  # Approximate population\n",
    "    \"coordinates\": (33.6844, 73.0479),  # Latitude and Longitude\n",
    "}\n",
    "\n",
    "# Accessing values using keys\n",
    "city_name = city_attributes[\"name\"]\n",
    "city_population = city_attributes[\"population\"]\n",
    "print(f\"City: {city_name}, Population: {city_population}\")\n",
    "# Output: City: Islamabad, Population: 1200000\n",
    "\n",
    "# Adding a new key-value pair (e.g., area in square kilometers)\n",
    "city_attributes[\"area_km2\"] = 906  # Area in square kilometers\n",
    "print(\"Updated city attributes:\", city_attributes)\n",
    "# Output: {'name': 'Islamabad', 'population': 1200000, 'coordinates': (33.6844, 73.0479), 'area_km2': 906}\n",
    "\n",
    "# Updating an existing value (e.g., population)\n",
    "city_attributes[\"population\"] = 1250000  # Updated population\n",
    "print(\"Attributes after updating population:\", city_attributes)\n",
    "# Output: {'name': 'Islamabad', 'population': 1250000, 'coordinates': (33.6844, 73.0479), 'area_km2': 906}\n",
    "\n",
    "# Removing a key-value pair\n",
    "del city_attributes[\"coordinates\"]\n",
    "print(\"Attributes after removing coordinates:\", city_attributes)\n",
    "# Output: {'name': 'Islamabad', 'population': 1250000, 'area_km2': 906}"
   ]
  },
  {
   "cell_type": "markdown",
   "metadata": {},
   "source": []
  }
 ],
 "metadata": {
  "kernelspec": {
   "display_name": "geo",
   "language": "python",
   "name": "python3"
  },
  "language_info": {
   "codemirror_mode": {
    "name": "ipython",
    "version": 3
   },
   "file_extension": ".py",
   "mimetype": "text/x-python",
   "name": "python",
   "nbconvert_exporter": "python",
   "pygments_lexer": "ipython3",
   "version": "3.12.3"
  }
 },
 "nbformat": 4,
 "nbformat_minor": 2
}
