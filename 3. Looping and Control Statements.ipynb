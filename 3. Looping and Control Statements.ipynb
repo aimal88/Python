{
 "cells": [
  {
   "cell_type": "markdown",
   "metadata": {},
   "source": [
    "# **3. Looping and Control Statements**"
   ]
  },
  {
   "cell_type": "markdown",
   "metadata": {},
   "source": [
    "1. Use **for loops** to iterate over sequences like lists or tuples.\n",
    "2. Use **while loops** to repeat tasks until a condition is met.\n",
    "3. Apply **if, elif, and else** statements to execute code based on conditions.\n",
    "4. Combine loops and conditions to filter, process, and analyze geospatial data.\n",
    "5. Automate repetitive geospatial tasks effectively."
   ]
  },
  {
   "cell_type": "markdown",
   "metadata": {},
   "source": [
    "**3.1 For Loops**\n",
    "\n",
    "for loops iterate over items in a sequence and are ideal for processing geospatial datasets."
   ]
  },
  {
   "cell_type": "markdown",
   "metadata": {},
   "source": [
    "**Example 1: Iterating Over Coordinates**"
   ]
  },
  {
   "cell_type": "code",
   "execution_count": null,
   "metadata": {},
   "outputs": [],
   "source": [
    "coords = [\n",
    "    (33.6844, 73.0479),  # Islamabad\n",
    "    (-34.6037, -58.3816),  # Buenos Aires\n",
    "    (48.8566, 2.3522),  # Paris\n",
    "]  # List of coordinates\n",
    "\n",
    "for lat, lon in coords:\n",
    "    print(f\"Lat: {lat}, Lon: {lon}\")\n",
    "# Output:\n",
    "# Lat: 33.6844, Lon: 73.0479\n",
    "# Lat: -34.6037, Lon: -58.3816\n",
    "# Lat: 48.8566, Lon: 2.3522"
   ]
  },
  {
   "cell_type": "markdown",
   "metadata": {},
   "source": [
    "**Example 2: Calculating Distances**"
   ]
  },
  {
   "cell_type": "code",
   "execution_count": null,
   "metadata": {},
   "outputs": [],
   "source": [
    "def calc_dist(lat1, lon1, lat2, lon2):\n",
    "    return ((lat2 - lat1) ** 2 + (lon2 - lon1) ** 2) ** 0.5\n",
    "\n",
    "ref = (0, 0)  # Reference point\n",
    "\n",
    "for lat, lon in coords:\n",
    "    d = calc_dist(ref[0], ref[1], lat, lon)\n",
    "    print(f\"Dist from {ref} to ({lat}, {lon}): {d:.2f}\")\n",
    "# Output:\n",
    "# Dist from (0, 0) to (33.6844, 73.0479): 79.74\n",
    "# Dist from (0, 0) to (-34.6037, -58.3816): 67.83\n",
    "# Dist from (0, 0) to (48.8566, 2.3522): 49.02"
   ]
  },
  {
   "cell_type": "markdown",
   "metadata": {},
   "source": [
    "**3.2 While Loops**\n",
    "\n",
    "**while loops** execute as long as a condition is **True**."
   ]
  },
  {
   "cell_type": "markdown",
   "metadata": {},
   "source": [
    "**Example: Processing Coordinates Until Condition**"
   ]
  },
  {
   "cell_type": "code",
   "execution_count": null,
   "metadata": {},
   "outputs": [],
   "source": [
    "i = 0\n",
    "while i < len(coords):\n",
    "    lat, lon = coords[i]\n",
    "    print(f\"Processing: ({lat}, {lon})\")\n",
    "    i += 1\n",
    "# Output:\n",
    "# Processing: (33.6844, 73.0479)\n",
    "# Processing: (-34.6037, -58.3816)\n",
    "# Processing: (48.8566, 2.3522)"
   ]
  },
  {
   "cell_type": "markdown",
   "metadata": {},
   "source": [
    "**3.2 Combining Loops and Control Statements**"
   ]
  },
  {
   "cell_type": "markdown",
   "metadata": {},
   "source": [
    "**Example 1: Filtering Data**"
   ]
  },
  {
   "cell_type": "code",
   "execution_count": null,
   "metadata": {},
   "outputs": [],
   "source": [
    "filtered = []\n",
    "for lat, lon in coords:\n",
    "    if lon > 0:  # Only include points with positive longitude\n",
    "        filtered.append((lat, lon))\n",
    "print(f\"Filtered: {filtered}\")\n",
    "# Output: Filtered: [(33.6844, 73.0479), (48.8566, 2.3522)]"
   ]
  },
  {
   "cell_type": "markdown",
   "metadata": {},
   "source": [
    "**Example 2: Counting Southern Hemisphere Points**"
   ]
  },
  {
   "cell_type": "code",
   "execution_count": null,
   "metadata": {},
   "outputs": [],
   "source": [
    "south_count = sum(1 for lat, _ in coords if lat < 0)\n",
    "print(f\"Southern Hemisphere points: {south_count}\")\n",
    "# Output: Southern Hemisphere points: 1"
   ]
  },
  {
   "cell_type": "markdown",
   "metadata": {},
   "source": [
    "**Summary**\n",
    "Loops and control statements are essential for automating tasks and making decisions based on geospatial data. Mastering these concepts will enable efficient data processing and complex analysis in your GIS workflows."
   ]
  }
 ],
 "metadata": {
  "kernelspec": {
   "display_name": "geo",
   "language": "python",
   "name": "python3"
  },
  "language_info": {
   "codemirror_mode": {
    "name": "ipython",
    "version": 3
   },
   "file_extension": ".py",
   "mimetype": "text/x-python",
   "name": "python",
   "nbconvert_exporter": "python",
   "pygments_lexer": "ipython3",
   "version": "3.12.3"
  }
 },
 "nbformat": 4,
 "nbformat_minor": 2
}
